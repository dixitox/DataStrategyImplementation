{
  "cells": [
    {
      "cell_type": "code",
      "execution_count": null,
      "metadata": {
        "tags": [
          "parameters"
        ]
      },
      "outputs": [
        {
          "data": {
            "application/vnd.livy.statement-meta+json": {
              "execution_finish_time": "2023-01-21T05:38:18.1912282Z",
              "execution_start_time": "2023-01-21T05:38:18.0119889Z",
              "livy_statement_state": "available",
              "queued_time": "2023-01-21T05:38:17.8283201Z",
              "session_id": "0",
              "session_start_time": null,
              "spark_jobs": null,
              "spark_pool": "defaultSpark33",
              "state": "finished",
              "statement_id": 6
            },
            "text/plain": [
              "StatementMeta(defaultSpark33, 0, 6, Finished, Available)"
            ]
          },
          "metadata": {},
          "output_type": "display_data"
        }
      ],
      "source": [
        "# 'prebuilt-invoice', 'prebuilt-receipt', 'prebuilt-tax.us.w2', 'prebuilt-idDocument', 'prebuilt-businessCard'\n",
        "model = 'prebuilt-invoice'\n",
        "\n",
        "# path to pdf/image\n",
        "container = 'landing'\n",
        "folderpath = 'Invoices/'\n",
        "filename = 'invoice.pdf'"
      ]
    },
    {
      "cell_type": "markdown",
      "metadata": {},
      "source": [
        "Copyright (c) Microsoft Corporation.\n",
        " Licensed under the MIT license."
      ]
    },
    {
      "cell_type": "code",
      "execution_count": null,
      "metadata": {
        "jupyter": {
          "outputs_hidden": false,
          "source_hidden": false
        },
        "nteract": {
          "transient": {
            "deleting": false
          }
        }
      },
      "outputs": [],
      "source": [
        "pip install azure-ai-formrecognizer"
      ]
    },
    {
      "cell_type": "code",
      "execution_count": null,
      "metadata": {
        "jupyter": {
          "outputs_hidden": false,
          "source_hidden": false
        },
        "nteract": {
          "transient": {
            "deleting": false
          }
        }
      },
      "outputs": [
        {
          "data": {
            "application/vnd.livy.statement-meta+json": {
              "execution_finish_time": "2023-01-21T05:37:58.1632243Z",
              "execution_start_time": "2023-01-21T05:37:47.369882Z",
              "livy_statement_state": "available",
              "queued_time": "2023-01-21T05:37:47.2473787Z",
              "session_id": "0",
              "session_start_time": null,
              "spark_jobs": null,
              "spark_pool": "defaultSpark33",
              "state": "finished",
              "statement_id": 3
            },
            "text/plain": [
              "StatementMeta(defaultSpark33, 0, 3, Finished, Available)"
            ]
          },
          "metadata": {},
          "output_type": "display_data"
        }
      ],
      "source": [
        "import json\n",
        "import pandas as pd\n",
        "from azure.core.credentials import AzureKeyCredential\n",
        "from azure.ai.formrecognizer import DocumentAnalysisClient"
      ]
    },
    {
      "cell_type": "code",
      "execution_count": null,
      "metadata": {
        "jupyter": {
          "outputs_hidden": false,
          "source_hidden": false
        },
        "nteract": {
          "transient": {
            "deleting": false
          }
        }
      },
      "outputs": [
        {
          "data": {
            "application/vnd.livy.statement-meta+json": {
              "execution_finish_time": "2023-01-21T05:38:06.4134755Z",
              "execution_start_time": "2023-01-21T05:38:03.6076609Z",
              "livy_statement_state": "available",
              "queued_time": "2023-01-21T05:38:03.4489621Z",
              "session_id": "0",
              "session_start_time": null,
              "spark_jobs": null,
              "spark_pool": "defaultSpark33",
              "state": "finished",
              "statement_id": 4
            },
            "text/plain": [
              "StatementMeta(defaultSpark33, 0, 4, Finished, Available)"
            ]
          },
          "metadata": {},
          "output_type": "display_data"
        }
      ],
      "source": [
        "# storage name\n",
        "storageLinkedService = 'LS_LandingStorage'\n",
        "storageAccount_ls = mssparkutils.credentials.getPropertiesAll(storageLinkedService)\n",
        "storageAccountName = json.loads(storageAccount_ls)['Endpoint'].split('.')[0].replace('https://','')\n",
        "\n",
        "#key vault name\n",
        "keyVault_ls = mssparkutils.credentials.getPropertiesAll('LS_KeyVault')\n",
        "keyVaultName = json.loads(keyVault_ls)['Endpoint'].split('.')[0].replace('https://','')\n",
        "\n",
        "#cognitive services name and secret\n",
        "cognitiveService_ls = mssparkutils.credentials.getPropertiesAll('LS_CognitiveService')\n",
        "cognitiveServiceName = json.loads(cognitiveService_ls)['CsName']\n",
        "cognitiveServiceKey = json.loads(cognitiveService_ls)['CsKey']"
      ]
    },
    {
      "cell_type": "code",
      "execution_count": null,
      "metadata": {
        "jupyter": {
          "outputs_hidden": false,
          "source_hidden": false
        },
        "nteract": {
          "transient": {
            "deleting": false
          }
        }
      },
      "outputs": [
        {
          "data": {
            "application/vnd.livy.statement-meta+json": {
              "execution_finish_time": "2023-01-21T05:38:45.8804333Z",
              "execution_start_time": "2023-01-21T05:38:24.7664651Z",
              "livy_statement_state": "available",
              "queued_time": "2023-01-21T05:38:24.6349182Z",
              "session_id": "0",
              "session_start_time": null,
              "spark_jobs": null,
              "spark_pool": "defaultSpark33",
              "state": "finished",
              "statement_id": 8
            },
            "text/plain": [
              "StatementMeta(defaultSpark33, 0, 8, Finished, Available)"
            ]
          },
          "metadata": {},
          "output_type": "display_data"
        },
        {
          "data": {
            "text/plain": [
              "True"
            ]
          },
          "execution_count": 19,
          "metadata": {},
          "output_type": "execute_result"
        }
      ],
      "source": [
        "mssparkutils.fs.mount( \n",
        "    f\"abfss://{container}@{storageAccountName}.dfs.core.windows.net/{folderpath}\", \n",
        "    \"/mnt\", \n",
        "    {\"linkedService\":f\"{storageLinkedService}\"} \n",
        ")"
      ]
    },
    {
      "cell_type": "code",
      "execution_count": null,
      "metadata": {
        "jupyter": {
          "outputs_hidden": false,
          "source_hidden": false
        },
        "nteract": {
          "transient": {
            "deleting": false
          }
        }
      },
      "outputs": [
        {
          "data": {
            "application/vnd.livy.statement-meta+json": {
              "execution_finish_time": "2023-01-21T05:38:47.6472771Z",
              "execution_start_time": "2023-01-21T05:38:47.4697417Z",
              "livy_statement_state": "available",
              "queued_time": "2023-01-21T05:38:47.3296365Z",
              "session_id": "0",
              "session_start_time": null,
              "spark_jobs": null,
              "spark_pool": "defaultSpark33",
              "state": "finished",
              "statement_id": 9
            },
            "text/plain": [
              "StatementMeta(defaultSpark33, 0, 9, Finished, Available)"
            ]
          },
          "metadata": {},
          "output_type": "display_data"
        }
      ],
      "source": [
        "jobid = mssparkutils.env.getJobId()"
      ]
    },
    {
      "cell_type": "code",
      "execution_count": null,
      "metadata": {
        "jupyter": {
          "outputs_hidden": false,
          "source_hidden": false
        },
        "nteract": {
          "transient": {
            "deleting": false
          }
        }
      },
      "outputs": [
        {
          "data": {
            "application/vnd.livy.statement-meta+json": {
              "execution_finish_time": "2023-01-21T05:38:54.0068722Z",
              "execution_start_time": "2023-01-21T05:38:53.837851Z",
              "livy_statement_state": "available",
              "queued_time": "2023-01-21T05:38:53.7140931Z",
              "session_id": "0",
              "session_start_time": null,
              "spark_jobs": null,
              "spark_pool": "defaultSpark33",
              "state": "finished",
              "statement_id": 10
            },
            "text/plain": [
              "StatementMeta(defaultSpark33, 0, 10, Finished, Available)"
            ]
          },
          "metadata": {},
          "output_type": "display_data"
        }
      ],
      "source": [
        "with open(f\"/synfs/{jobid}/mnt/{filename}\", \"rb\") as fd:\n",
        "    document = fd.read()"
      ]
    },
    {
      "cell_type": "code",
      "execution_count": null,
      "metadata": {
        "jupyter": {
          "outputs_hidden": false,
          "source_hidden": false
        },
        "nteract": {
          "transient": {
            "deleting": false
          }
        }
      },
      "outputs": [
        {
          "data": {
            "application/vnd.livy.statement-meta+json": {
              "execution_finish_time": "2023-01-21T05:39:20.7694694Z",
              "execution_start_time": "2023-01-21T05:39:20.5580903Z",
              "livy_statement_state": "available",
              "queued_time": "2023-01-21T05:39:20.4300089Z",
              "session_id": "0",
              "session_start_time": null,
              "spark_jobs": null,
              "spark_pool": "defaultSpark33",
              "state": "finished",
              "statement_id": 11
            },
            "text/plain": [
              "StatementMeta(defaultSpark33, 0, 11, Finished, Available)"
            ]
          },
          "metadata": {},
          "output_type": "display_data"
        }
      ],
      "source": [
        "document_analysis_client = DocumentAnalysisClient(\n",
        "    endpoint=f\"https://{cognitiveServiceName}.cognitiveservices.azure.com/\",\n",
        "    credential=AzureKeyCredential(cognitiveServiceKey)\n",
        ")"
      ]
    },
    {
      "cell_type": "code",
      "execution_count": null,
      "metadata": {
        "jupyter": {
          "outputs_hidden": false,
          "source_hidden": false
        },
        "nteract": {
          "transient": {
            "deleting": false
          }
        }
      },
      "outputs": [
        {
          "data": {
            "application/vnd.livy.statement-meta+json": {
              "execution_finish_time": "2023-01-21T05:39:36.8399363Z",
              "execution_start_time": "2023-01-21T05:39:24.1302259Z",
              "livy_statement_state": "available",
              "queued_time": "2023-01-21T05:39:24.0076292Z",
              "session_id": "0",
              "session_start_time": null,
              "spark_jobs": null,
              "spark_pool": "defaultSpark33",
              "state": "finished",
              "statement_id": 12
            },
            "text/plain": [
              "StatementMeta(defaultSpark33, 0, 12, Finished, Available)"
            ]
          },
          "metadata": {},
          "output_type": "display_data"
        }
      ],
      "source": [
        "poller = document_analysis_client.begin_analyze_document(model, document)\n",
        "result = poller.result()\n",
        "# convert data to dictionary for processing\n",
        "analyze_result_dict = result.to_dict()"
      ]
    },
    {
      "cell_type": "code",
      "execution_count": null,
      "metadata": {
        "jupyter": {
          "outputs_hidden": false,
          "source_hidden": false
        },
        "nteract": {
          "transient": {
            "deleting": false
          }
        }
      },
      "outputs": [
        {
          "data": {
            "application/vnd.livy.statement-meta+json": {
              "execution_finish_time": "2023-01-21T05:39:48.4371547Z",
              "execution_start_time": "2023-01-21T05:39:48.2664255Z",
              "livy_statement_state": "available",
              "queued_time": "2023-01-21T05:39:48.1443164Z",
              "session_id": "0",
              "session_start_time": null,
              "spark_jobs": null,
              "spark_pool": "defaultSpark33",
              "state": "finished",
              "statement_id": 14
            },
            "text/plain": [
              "StatementMeta(defaultSpark33, 0, 14, Finished, Available)"
            ]
          },
          "metadata": {},
          "output_type": "display_data"
        }
      ],
      "source": [
        "attribute_data = []\n",
        "item_data = []\n",
        "\n",
        "fields_output = {}\n",
        "\n",
        "documents = analyze_result_dict.get('documents')\n",
        "\n",
        "for document in documents:\n",
        "    fields = document.get('fields').items()\n",
        "    for name, field in fields:\n",
        "        if name == \"Items\":\n",
        "            # for each item (or row)\n",
        "            for idx, item in enumerate(field.get('value')):\n",
        "                row = {}\n",
        "                # for each field in item (or row)\n",
        "                for item_field_name, item_field in item.get('value').items():\n",
        "                    if 'bounding_regions' in item_field.keys():\n",
        "                        del item_field['bounding_regions']\n",
        "                    if 'spans' in item_field.keys():\n",
        "                        del item_field['spans']\n",
        "                    value = json.dumps(item_field, default=str)\n",
        "                    row[item_field_name] = value\n",
        "                item_data.append(row)\n",
        "        else:\n",
        "            if 'bounding_regions' in field.keys():\n",
        "                del field['bounding_regions']\n",
        "            if 'spans' in field.keys():\n",
        "                del field['spans']\n",
        "            value = json.dumps(field, default=str)\n",
        "            fields_output[name] = value\n",
        "\n",
        "attribute_data.append(fields_output)"
      ]
    },
    {
      "cell_type": "code",
      "execution_count": null,
      "metadata": {
        "jupyter": {
          "outputs_hidden": false,
          "source_hidden": false
        },
        "nteract": {
          "transient": {
            "deleting": false
          }
        }
      },
      "outputs": [
        {
          "data": {
            "application/vnd.livy.statement-meta+json": {
              "execution_finish_time": "2023-01-21T05:39:49.4630032Z",
              "execution_start_time": "2023-01-21T05:39:49.2719581Z",
              "livy_statement_state": "available",
              "queued_time": "2023-01-21T05:39:49.1110395Z",
              "session_id": "0",
              "session_start_time": null,
              "spark_jobs": null,
              "spark_pool": "defaultSpark33",
              "state": "finished",
              "statement_id": 15
            },
            "text/plain": [
              "StatementMeta(defaultSpark33, 0, 15, Finished, Available)"
            ]
          },
          "metadata": {},
          "output_type": "display_data"
        }
      ],
      "source": [
        "item_df = pd.DataFrame(item_data)"
      ]
    },
    {
      "cell_type": "code",
      "execution_count": null,
      "metadata": {
        "jupyter": {
          "outputs_hidden": false,
          "source_hidden": false
        },
        "nteract": {
          "transient": {
            "deleting": false
          }
        }
      },
      "outputs": [
        {
          "data": {
            "application/vnd.livy.statement-meta+json": {
              "execution_finish_time": "2023-01-21T05:39:50.2582764Z",
              "execution_start_time": "2023-01-21T05:39:50.0920899Z",
              "livy_statement_state": "available",
              "queued_time": "2023-01-21T05:39:49.9744973Z",
              "session_id": "0",
              "session_start_time": null,
              "spark_jobs": null,
              "spark_pool": "defaultSpark33",
              "state": "finished",
              "statement_id": 16
            },
            "text/plain": [
              "StatementMeta(defaultSpark33, 0, 16, Finished, Available)"
            ]
          },
          "metadata": {},
          "output_type": "display_data"
        }
      ],
      "source": [
        "field_df = pd.DataFrame(attribute_data)"
      ]
    },
    {
      "cell_type": "code",
      "execution_count": null,
      "metadata": {
        "jupyter": {
          "outputs_hidden": false,
          "source_hidden": false
        },
        "nteract": {
          "transient": {
            "deleting": false
          }
        }
      },
      "outputs": [
        {
          "data": {
            "application/vnd.livy.statement-meta+json": {
              "execution_finish_time": "2023-01-21T05:39:51.8893975Z",
              "execution_start_time": "2023-01-21T05:39:51.3296177Z",
              "livy_statement_state": "available",
              "queued_time": "2023-01-21T05:39:51.2115066Z",
              "session_id": "0",
              "session_start_time": null,
              "spark_jobs": null,
              "spark_pool": "defaultSpark33",
              "state": "finished",
              "statement_id": 17
            },
            "text/plain": [
              "StatementMeta(defaultSpark33, 0, 17, Finished, Available)"
            ]
          },
          "metadata": {},
          "output_type": "display_data"
        }
      ],
      "source": [
        "if item_data == []:\n",
        "    output = field_df\n",
        "else:\n",
        "    output = field_df.merge(item_df, how='cross')"
      ]
    },
    {
      "cell_type": "code",
      "execution_count": null,
      "metadata": {
        "jupyter": {
          "outputs_hidden": false,
          "source_hidden": false
        },
        "nteract": {
          "transient": {
            "deleting": false
          }
        }
      },
      "outputs": [
        {
          "data": {
            "application/vnd.livy.statement-meta+json": {
              "execution_finish_time": "2023-01-21T05:44:16.1857836Z",
              "execution_start_time": "2023-01-21T05:44:15.9831538Z",
              "livy_statement_state": "available",
              "queued_time": "2023-01-21T05:44:15.8210228Z",
              "session_id": "0",
              "session_start_time": null,
              "spark_jobs": null,
              "spark_pool": "defaultSpark33",
              "state": "finished",
              "statement_id": 21
            },
            "text/plain": [
              "StatementMeta(defaultSpark33, 0, 21, Finished, Available)"
            ]
          },
          "metadata": {},
          "output_type": "display_data"
        }
      ],
      "source": [
        "fileNoExt = filename.split('.')[0]\n",
        "outputPath = f\"abfss://{container}@{storageAccountName}.dfs.core.windows.net/{folderpath}{fileNoExt}_formrecognizeroutput.csv\"\n",
        "output.to_csv(outputPath, index=False, storage_options = {'linked_service' : f'{storageLinkedService}'})"
      ]
    }
  ],
  "metadata": {
    "description": null,
    "kernelspec": {
      "display_name": "Synapse PySpark",
      "name": "synapse_pyspark"
    },
    "language_info": {
      "name": "python"
    },
    "save_output": true,
    "synapse_widget": {
      "state": {},
      "version": "0.1"
    }
  },
  "nbformat": 4,
  "nbformat_minor": 2
}
