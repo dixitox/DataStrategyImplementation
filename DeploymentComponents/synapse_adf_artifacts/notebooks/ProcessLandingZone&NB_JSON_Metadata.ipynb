{
  "cells": [
    {
      "cell_type": "markdown",
      "metadata": {},
      "source": [
        "// Copyright (c) Microsoft Corporation.\n",
        "// Licensed under the MIT license."
      ]
    },
    {
      "cell_type": "code",
      "execution_count": 1,
      "metadata": {
        "jupyter": {
          "outputs_hidden": false,
          "source_hidden": false
        },
        "nteract": {
          "transient": {
            "deleting": false
          }
        }
      },
      "outputs": [
        {
          "data": {
            "application/vnd.livy.statement-meta+json": {
              "execution_finish_time": "2023-02-21T18:34:32.8423194Z",
              "execution_start_time": null,
              "livy_statement_state": null,
              "parent_msg_id": "7d9f5d7c-95f1-437a-98b1-ef0dbe00e817",
              "queued_time": "2023-02-21T18:25:33.1729632Z",
              "session_id": null,
              "session_start_time": "2023-02-21T18:25:33.2777926Z",
              "spark_jobs": null,
              "spark_pool": null,
              "state": "cancelled",
              "statement_id": null
            },
            "text/plain": [
              "StatementMeta(, , , Cancelled, )"
            ]
          },
          "metadata": {},
          "output_type": "display_data"
        }
      ],
      "source": [
        "import re\n",
        "import json"
      ]
    },
    {
      "cell_type": "code",
      "execution_count": null,
      "metadata": {
        "jupyter": {
          "outputs_hidden": false,
          "source_hidden": false
        },
        "nteract": {
          "transient": {
            "deleting": false
          }
        },
        "tags": [
          "parameters"
        ]
      },
      "outputs": [],
      "source": [
        "# Whether a JSON record spans multiple lines in document\n",
        "multiline = \"True\"\n",
        "\n",
        "# path to file\n",
        "container = 'landing'\n",
        "folderPath = 'test/'\n",
        "fileName = 'hstest_20230220_v3.json'"
      ]
    },
    {
      "cell_type": "code",
      "execution_count": 2,
      "metadata": {
        "jupyter": {
          "outputs_hidden": false,
          "source_hidden": false
        },
        "nteract": {
          "transient": {
            "deleting": false
          }
        }
      },
      "outputs": [
        {
          "data": {
            "application/vnd.livy.statement-meta+json": {
              "execution_finish_time": "2023-02-21T00:28:25.8795323Z",
              "execution_start_time": "2023-02-21T00:28:25.7217231Z",
              "livy_statement_state": "available",
              "parent_msg_id": "c77221c4-1900-40b9-a8b0-1d6e1625754e",
              "queued_time": "2023-02-21T00:28:25.5556616Z",
              "session_id": "0",
              "session_start_time": null,
              "spark_jobs": null,
              "spark_pool": "defaultSpark33",
              "state": "finished",
              "statement_id": 2
            },
            "text/plain": [
              "StatementMeta(defaultSpark33, 0, 2, Finished, Available)"
            ]
          },
          "metadata": {},
          "output_type": "display_data"
        }
      ],
      "source": [
        "# storage name\n",
        "storageLinkedService = 'LS_LandingStorage'\n",
        "storageAccount_ls = mssparkutils.credentials.getPropertiesAll(storageLinkedService)\n",
        "storageAccountName = json.loads(storageAccount_ls)['Endpoint'].split('.')[0].replace('https://','')"
      ]
    },
    {
      "cell_type": "code",
      "execution_count": null,
      "metadata": {
        "jupyter": {
          "outputs_hidden": false,
          "source_hidden": false
        },
        "nteract": {
          "transient": {
            "deleting": false
          }
        }
      },
      "outputs": [],
      "source": [
        "# filepath\n",
        "filePath = f\"abfss://{container}@{storageAccountName}.dfs.core.windows.net/{folderPath}{fileName}\""
      ]
    },
    {
      "cell_type": "code",
      "execution_count": 5,
      "metadata": {
        "jupyter": {
          "outputs_hidden": false,
          "source_hidden": false
        },
        "nteract": {
          "transient": {
            "deleting": false
          }
        }
      },
      "outputs": [
        {
          "data": {
            "application/vnd.livy.statement-meta+json": {
              "execution_finish_time": "2023-02-21T00:29:29.8003366Z",
              "execution_start_time": "2023-02-21T00:29:26.9992839Z",
              "livy_statement_state": "available",
              "parent_msg_id": "aa9b776a-14b2-4fc3-b945-0ede8d34b6af",
              "queued_time": "2023-02-21T00:29:26.8473923Z",
              "session_id": "0",
              "session_start_time": null,
              "spark_jobs": null,
              "spark_pool": "defaultSpark33",
              "state": "finished",
              "statement_id": 5
            },
            "text/plain": [
              "StatementMeta(defaultSpark33, 0, 5, Finished, Available)"
            ]
          },
          "metadata": {},
          "output_type": "display_data"
        }
      ],
      "source": [
        "df = spark.read.option(\"multiline\",f\"{multiline}\").json(filePath)"
      ]
    },
    {
      "cell_type": "markdown",
      "metadata": {
        "nteract": {
          "transient": {
            "deleting": false
          }
        }
      },
      "source": [
        "## Get Json File Metadata"
      ]
    },
    {
      "cell_type": "code",
      "execution_count": 15,
      "metadata": {
        "jupyter": {
          "outputs_hidden": false,
          "source_hidden": false
        },
        "nteract": {
          "transient": {
            "deleting": false
          }
        }
      },
      "outputs": [
        {
          "data": {
            "application/vnd.livy.statement-meta+json": {
              "execution_finish_time": "2023-02-21T00:41:53.4823388Z",
              "execution_start_time": "2023-02-21T00:41:53.3289455Z",
              "livy_statement_state": "available",
              "parent_msg_id": "e21fca55-c909-4529-aefe-67fbf7d01369",
              "queued_time": "2023-02-21T00:41:53.1741297Z",
              "session_id": "0",
              "session_start_time": null,
              "spark_jobs": null,
              "spark_pool": "defaultSpark33",
              "state": "finished",
              "statement_id": 15
            },
            "text/plain": [
              "StatementMeta(defaultSpark33, 0, 15, Finished, Available)"
            ]
          },
          "metadata": {},
          "output_type": "display_data"
        }
      ],
      "source": [
        "dtypes = df.dtypes\n",
        "structure = [{\"name\": dtype[0], \"type\": dtype[1]} for dtype in dtypes]\n",
        "structureJson = str(structure).replace(\"'\",'\"')\n",
        "columns = str(len(dtypes))"
      ]
    },
    {
      "cell_type": "code",
      "execution_count": null,
      "metadata": {
        "jupyter": {
          "outputs_hidden": false,
          "source_hidden": false
        },
        "nteract": {
          "transient": {
            "deleting": false
          }
        }
      },
      "outputs": [],
      "source": [
        "mssparkutils.notebook.exit(structureJson+'|'+columns)"
      ]
    }
  ],
  "metadata": {
    "description": null,
    "kernel_info": {
      "name": "synapse_pyspark"
    },
    "kernelspec": {
      "display_name": "Synapse PySpark",
      "language": "Python",
      "name": "synapse_pyspark"
    },
    "language_info": {
      "name": "python"
    },
    "save_output": true,
    "synapse_widget": {
      "state": {},
      "version": "0.1"
    }
  },
  "nbformat": 4,
  "nbformat_minor": 2
}
