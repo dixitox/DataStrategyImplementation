{
 "cells": [
  {
   "cell_type": "code",
   "execution_count": 0,
   "metadata": {
    "application/vnd.databricks.v1+cell": {
     "cellMetadata": {},
     "inputWidgets": {},
     "nuid": "19b44f91-b52c-4f6e-84af-a7597fa93e75",
     "showTitle": false,
     "title": ""
    },
    "nteract": {
     "transient": {
      "deleting": false
     }
    }
   },
   "outputs": [
    {
     "output_type": "display_data",
     "data": {
      "application/vnd.livy.statement-meta+json": {
       "execution_finish_time": "2023-02-21T18:34:32.8423194Z",
       "execution_start_time": null,
       "livy_statement_state": null,
       "parent_msg_id": "7d9f5d7c-95f1-437a-98b1-ef0dbe00e817",
       "queued_time": "2023-02-21T18:25:33.1729632Z",
       "session_id": null,
       "session_start_time": "2023-02-21T18:25:33.2777926Z",
       "spark_jobs": null,
       "spark_pool": null,
       "state": "cancelled",
       "statement_id": null
      },
      "text/plain": [
       "StatementMeta(, , , Cancelled, )"
      ]
     },
     "metadata": {},
     "output_type": "display_data"
    }
   ],
   "source": [
    "import re\n",
    "import json"
   ]
  },
  {
   "cell_type": "code",
   "execution_count": 0,
   "metadata": {
    "application/vnd.databricks.v1+cell": {
     "cellMetadata": {},
     "inputWidgets": {},
     "nuid": "0603c70a-a3a7-4209-ac58-14dda137aa57",
     "showTitle": false,
     "title": ""
    },
    "nteract": {
     "transient": {
      "deleting": false
     }
    },
    "tags": [
     "parameters"
    ]
   },
   "outputs": [],
   "source": [
    "# Whether a JSON record spans multiple lines in document\n",
    "multiline = dbutils.widgets.get(\"multiline\")\n",
    "\n",
    "container = dbutils.widgets.get(\"container\")\n",
    "folderPath = dbutils.widgets.get(\"folderPath\")\n",
    "fileName = dbutils.widgets.get(\"fileName\")\n",
    "storageAccountName = dbutils.widgets.get(\"landingStorageAccountName\")"
   ]
  },
  {
   "cell_type": "code",
   "execution_count": 0,
   "metadata": {
    "application/vnd.databricks.v1+cell": {
     "cellMetadata": {},
     "inputWidgets": {},
     "nuid": "d9e395d6-e435-4d2f-84bd-5db7ac70caf0",
     "showTitle": false,
     "title": ""
    },
    "nteract": {
     "transient": {
      "deleting": false
     }
    }
   },
   "outputs": [],
   "source": [
    "# filepath\r\n",
    "filePath = f\"abfss://{container}@{storageAccountName}.dfs.core.windows.net/{folderPath}{fileName}\""
   ]
  },
  {
   "cell_type": "code",
   "execution_count": 0,
   "metadata": {
    "application/vnd.databricks.v1+cell": {
     "cellMetadata": {},
     "inputWidgets": {},
     "nuid": "0b9e9c22-26b7-44bf-a69a-2d488d813a2e",
     "showTitle": false,
     "title": ""
    },
    "nteract": {
     "transient": {
      "deleting": false
     }
    }
   },
   "outputs": [
    {
     "output_type": "display_data",
     "data": {
      "application/vnd.livy.statement-meta+json": {
       "execution_finish_time": "2023-02-21T00:29:29.8003366Z",
       "execution_start_time": "2023-02-21T00:29:26.9992839Z",
       "livy_statement_state": "available",
       "parent_msg_id": "aa9b776a-14b2-4fc3-b945-0ede8d34b6af",
       "queued_time": "2023-02-21T00:29:26.8473923Z",
       "session_id": "0",
       "session_start_time": null,
       "spark_jobs": null,
       "spark_pool": "defaultSpark33",
       "state": "finished",
       "statement_id": 5
      },
      "text/plain": [
       "StatementMeta(defaultSpark33, 0, 5, Finished, Available)"
      ]
     },
     "metadata": {},
     "output_type": "display_data"
    }
   ],
   "source": [
    "df = spark.read.option(\"multiline\",f\"{multiline}\").json(filePath)"
   ]
  },
  {
   "cell_type": "markdown",
   "metadata": {
    "application/vnd.databricks.v1+cell": {
     "cellMetadata": {},
     "inputWidgets": {},
     "nuid": "314ba043-579d-440b-a981-40a2b4c6b026",
     "showTitle": false,
     "title": ""
    },
    "nteract": {
     "transient": {
      "deleting": false
     }
    }
   },
   "source": [
    "## Get Json File Metadata"
   ]
  },
  {
   "cell_type": "code",
   "execution_count": 0,
   "metadata": {
    "application/vnd.databricks.v1+cell": {
     "cellMetadata": {},
     "inputWidgets": {},
     "nuid": "b38c65d9-eea0-4386-a220-45ec48626e85",
     "showTitle": false,
     "title": ""
    },
    "nteract": {
     "transient": {
      "deleting": false
     }
    }
   },
   "outputs": [
    {
     "output_type": "display_data",
     "data": {
      "application/vnd.livy.statement-meta+json": {
       "execution_finish_time": "2023-02-21T00:41:53.4823388Z",
       "execution_start_time": "2023-02-21T00:41:53.3289455Z",
       "livy_statement_state": "available",
       "parent_msg_id": "e21fca55-c909-4529-aefe-67fbf7d01369",
       "queued_time": "2023-02-21T00:41:53.1741297Z",
       "session_id": "0",
       "session_start_time": null,
       "spark_jobs": null,
       "spark_pool": "defaultSpark33",
       "state": "finished",
       "statement_id": 15
      },
      "text/plain": [
       "StatementMeta(defaultSpark33, 0, 15, Finished, Available)"
      ]
     },
     "metadata": {},
     "output_type": "display_data"
    }
   ],
   "source": [
    "dtypes = df.dtypes\r\n",
    "structure = [{\"name\": dtype[0], \"type\": dtype[1]} for dtype in dtypes]\r\n",
    "structureJson = str(structure).replace(\"'\",'\"')\r\n",
    "columns = str(len(dtypes))"
   ]
  },
  {
   "cell_type": "code",
   "execution_count": 0,
   "metadata": {
    "application/vnd.databricks.v1+cell": {
     "cellMetadata": {},
     "inputWidgets": {},
     "nuid": "22d1a271-fcef-428e-910c-e0a39a441d29",
     "showTitle": false,
     "title": ""
    },
    "nteract": {
     "transient": {
      "deleting": false
     }
    }
   },
   "outputs": [],
   "source": [
    "dbutils.notebook.exit(structureJson+'|'+columns)"
   ]
  }
 ],
 "metadata": {
  "application/vnd.databricks.v1+notebook": {
   "dashboards": [],
   "language": "python",
   "notebookMetadata": {
    "pythonIndentUnit": 4
   },
   "notebookName": "NB_JSON_Metadata",
   "widgets": {
    "container": {
     "currentValue": "landing",
     "nuid": "edc9c7c1-1164-4f96-86c8-ab27f796f618",
     "widgetInfo": {
      "widgetType": "text",
      "defaultValue": "",
      "label": "",
      "name": "container",
      "options": {
       "widgetType": "text",
       "autoCreated": false,
       "validationRegex": null
      }
     }
    },
    "fileName": {
     "currentValue": "test.json",
     "nuid": "0bf734ce-80c8-49d5-9e74-cb64d90c1e80",
     "widgetInfo": {
      "widgetType": "text",
      "defaultValue": "",
      "label": "",
      "name": "fileName",
      "options": {
       "widgetType": "text",
       "autoCreated": false,
       "validationRegex": null
      }
     }
    },
    "folderPath": {
     "currentValue": "test/",
     "nuid": "997beada-70c1-4aa4-ac25-91f1c17049cf",
     "widgetInfo": {
      "widgetType": "text",
      "defaultValue": "",
      "label": "",
      "name": "folderPath",
      "options": {
       "widgetType": "text",
       "autoCreated": false,
       "validationRegex": null
      }
     }
    },
    "landingStorageAccountName": {
     "currentValue": "",
     "nuid": "416a3526-a1e0-4ce8-aa16-114f5dd9c29a",
     "widgetInfo": {
      "widgetType": "text",
      "defaultValue": "",
      "label": "",
      "name": "landingStorageAccountName",
      "options": {
       "widgetType": "text",
       "autoCreated": false,
       "validationRegex": null
      }
     }
    },
    "multiline": {
     "currentValue": "True",
     "nuid": "3d2c409b-a23e-4bdf-af6a-f99755ab9a28",
     "widgetInfo": {
      "widgetType": "text",
      "defaultValue": "",
      "label": "",
      "name": "multiline",
      "options": {
       "widgetType": "text",
       "autoCreated": false,
       "validationRegex": null
      }
     }
    }
   }
  },
  "description": null,
  "kernel_info": {
   "name": "synapse_pyspark"
  },
  "kernelspec": {
   "display_name": "Synapse PySpark",
   "language": "Python",
   "name": "synapse_pyspark"
  },
  "language_info": {
   "name": "python"
  },
  "save_output": true,
  "synapse_widget": {
   "state": {},
   "version": "0.1"
  }
 },
 "nbformat": 4,
 "nbformat_minor": 0
}
