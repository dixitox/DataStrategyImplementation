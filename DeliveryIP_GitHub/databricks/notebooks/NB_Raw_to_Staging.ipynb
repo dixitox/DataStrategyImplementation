{
 "cells": [
  {
   "cell_type": "code",
   "execution_count": 0,
   "metadata": {
    "application/vnd.databricks.v1+cell": {
     "cellMetadata": {
      "byteLimit": 2048000,
      "rowLimit": 10000
     },
     "inputWidgets": {},
     "nuid": "06dd4ca0-7432-4076-bdf8-e79d46b4ac31",
     "showTitle": false,
     "title": ""
    }
   },
   "outputs": [],
   "source": [
    "from pyspark.sql import functions as f\n",
    "from delta.tables import *\n",
    "import re\n",
    "import json\n",
    "import datetime\n",
    "import time"
   ]
  },
  {
   "cell_type": "code",
   "execution_count": 0,
   "metadata": {
    "application/vnd.databricks.v1+cell": {
     "cellMetadata": {
      "byteLimit": 2048000,
      "rowLimit": 10000
     },
     "inputWidgets": {},
     "nuid": "ab631441-7b24-49b4-b7f7-52e08a44f800",
     "showTitle": false,
     "title": ""
    }
   },
   "outputs": [],
   "source": [
    "raw_folderpath = dbutils.widgets.get(\"raw_folderpath\")\n",
    "raw_filename = dbutils.widgets.get(\"raw_filename\")\n",
    "primary_key_cols = dbutils.widgets.get(\"primary_key_cols\")\n",
    "partition_cols = dbutils.widgets.get(\"partition_cols\")\n",
    "date_partition_column = dbutils.widgets.get(\"date_partition_column\")\n",
    "file_type = dbutils.widgets.get(\"file_type\")\n",
    "storageAccountName = dbutils.widgets.get(\"dataLakeStorageAccountName\")\n",
    "sinkFolderPath = dbutils.widgets.get(\"sinkFolderPath\")\n",
    "unityCatalogName = dbutils.widgets.get(\"unityCatalogName\")\n",
    "unitySchemaName = dbutils.widgets.get(\"unitySchemaName\")\n",
    "tableName = dbutils.widgets.get(\"tableName\").lower()"
   ]
  },
  {
   "cell_type": "code",
   "execution_count": 0,
   "metadata": {
    "application/vnd.databricks.v1+cell": {
     "cellMetadata": {
      "byteLimit": 2048000,
      "rowLimit": 10000
     },
     "inputWidgets": {},
     "nuid": "25ae3639-281e-4e49-bdfa-a9c46990eb62",
     "showTitle": false,
     "title": ""
    },
    "nteract": {
     "transient": {
      "deleting": false
     }
    }
   },
   "outputs": [],
   "source": [
    "# convert parameter partition_cols from string type to list type\n",
    "partition_cols_list = json.loads(partition_cols.replace(\"'\",'\"'))"
   ]
  },
  {
   "cell_type": "markdown",
   "metadata": {
    "application/vnd.databricks.v1+cell": {
     "cellMetadata": {},
     "inputWidgets": {},
     "nuid": "ff7fc781-f537-4eda-9645-4c91133c227f",
     "showTitle": false,
     "title": ""
    },
    "nteract": {
     "transient": {
      "deleting": false
     }
    }
   },
   "source": [
    "### Set to Correct Database"
   ]
  },
  {
   "cell_type": "code",
   "execution_count": 0,
   "metadata": {
    "application/vnd.databricks.v1+cell": {
     "cellMetadata": {
      "byteLimit": 2048000,
      "implicitDf": true,
      "rowLimit": 10000
     },
     "inputWidgets": {},
     "nuid": "564b631d-6210-4b2d-af3c-d0e0b41b0904",
     "showTitle": false,
     "title": ""
    },
    "collapsed": false,
    "microsoft": {
     "language": "sparksql"
    },
    "nteract": {
     "transient": {
      "deleting": false
     }
    }
   },
   "outputs": [],
   "source": [
    "%sql\n",
    "USE CATALOG ${unityCatalogName};\n",
    "\n",
    "USE SCHEMA ${unitySchemaName};"
   ]
  },
  {
   "cell_type": "markdown",
   "metadata": {
    "application/vnd.databricks.v1+cell": {
     "cellMetadata": {},
     "inputWidgets": {},
     "nuid": "5cac3f06-c22a-48a9-a279-1c44909ff3d8",
     "showTitle": false,
     "title": ""
    },
    "nteract": {
     "transient": {
      "deleting": false
     }
    }
   },
   "source": [
    "### Read Input Data"
   ]
  },
  {
   "cell_type": "code",
   "execution_count": 0,
   "metadata": {
    "application/vnd.databricks.v1+cell": {
     "cellMetadata": {
      "byteLimit": 2048000,
      "rowLimit": 10000
     },
     "inputWidgets": {},
     "nuid": "36074a97-7516-4c11-a6a3-0e5ca324e790",
     "showTitle": false,
     "title": ""
    },
    "nteract": {
     "transient": {
      "deleting": false
     }
    }
   },
   "outputs": [],
   "source": [
    "raw_folderpathWithoutContainer = raw_folderpath[4:]\n",
    "stagingFolderPath = re.sub(r'(.*/v[0-9]+/).*', r'\\1', raw_folderpathWithoutContainer)\n",
    "version = re.search(r'\\/(v\\d+)\\/',stagingFolderPath).group(1)\n",
    "\n",
    "if file_type == 'json':\n",
    "    raw_data = spark.read.json(f'abfss://raw@{storageAccountName}.dfs.core.windows.net/{raw_folderpathWithoutContainer}{raw_filename}')\n",
    "elif file_type == 'parquet':\n",
    "    raw_data = spark.read.parquet(f'abfss://raw@{storageAccountName}.dfs.core.windows.net/{raw_folderpathWithoutContainer}{raw_filename}')\n",
    "else:\n",
    "    raw_data = spark.read.load(f'abfss://raw@{storageAccountName}.dfs.core.windows.net/{raw_folderpathWithoutContainer}')"
   ]
  },
  {
   "cell_type": "markdown",
   "metadata": {
    "application/vnd.databricks.v1+cell": {
     "cellMetadata": {},
     "inputWidgets": {},
     "nuid": "a0b5d08c-4e80-4855-9245-c5cb78917d5f",
     "showTitle": false,
     "title": ""
    },
    "nteract": {
     "transient": {
      "deleting": false
     }
    }
   },
   "source": [
    "### Add Date Partition Columns If Necessary"
   ]
  },
  {
   "cell_type": "code",
   "execution_count": 0,
   "metadata": {
    "application/vnd.databricks.v1+cell": {
     "cellMetadata": {
      "byteLimit": 2048000,
      "rowLimit": 10000
     },
     "inputWidgets": {},
     "nuid": "5b757091-5480-47c6-9673-91516506ab7e",
     "showTitle": false,
     "title": ""
    },
    "nteract": {
     "transient": {
      "deleting": false
     }
    }
   },
   "outputs": [],
   "source": [
    "if 'CalcYear' in partition_cols_list:\n",
    "    raw_data = raw_data.withColumn('CalcYear', f.year(f.col(date_partition_column)))\n",
    "\n",
    "if 'CalcMonth' in partition_cols_list:\n",
    "    raw_data = raw_data.withColumn('CalcMonth', f.month(f.col(date_partition_column)))\n",
    "\n",
    "if 'CalcDayOfMonth' in partition_cols_list:\n",
    "    raw_data = raw_data.withColumn('CalcDayOfMonth', f.dayofmonth(f.col(date_partition_column)))"
   ]
  },
  {
   "cell_type": "markdown",
   "metadata": {
    "application/vnd.databricks.v1+cell": {
     "cellMetadata": {},
     "inputWidgets": {},
     "nuid": "6be39ce8-e1dc-4973-b470-66f3e0e00cbe",
     "showTitle": false,
     "title": ""
    },
    "nteract": {
     "transient": {
      "deleting": false
     }
    }
   },
   "source": [
    "### Set Output Path"
   ]
  },
  {
   "cell_type": "code",
   "execution_count": 0,
   "metadata": {
    "application/vnd.databricks.v1+cell": {
     "cellMetadata": {
      "byteLimit": 2048000,
      "rowLimit": 10000
     },
     "inputWidgets": {},
     "nuid": "57b3bd6d-1cfb-43dd-943d-cc06aee5624b",
     "showTitle": false,
     "title": ""
    },
    "nteract": {
     "transient": {
      "deleting": false
     }
    }
   },
   "outputs": [],
   "source": [
    "stagingAbfssPath = f'abfss://staging@{storageAccountName}.dfs.core.windows.net/{sinkFolderPath}'"
   ]
  },
  {
   "cell_type": "markdown",
   "metadata": {
    "application/vnd.databricks.v1+cell": {
     "cellMetadata": {},
     "inputWidgets": {},
     "nuid": "9980beb7-e6d9-45d3-999e-a45df3116d27",
     "showTitle": false,
     "title": ""
    },
    "nteract": {
     "transient": {
      "deleting": false
     }
    }
   },
   "source": [
    "### Determine if Delta Table Exists"
   ]
  },
  {
   "cell_type": "code",
   "execution_count": 0,
   "metadata": {
    "application/vnd.databricks.v1+cell": {
     "cellMetadata": {
      "byteLimit": 2048000,
      "rowLimit": 10000
     },
     "inputWidgets": {},
     "nuid": "5051ced3-bb2f-4583-876c-a6b82b76e286",
     "showTitle": false,
     "title": ""
    },
    "nteract": {
     "transient": {
      "deleting": false
     }
    }
   },
   "outputs": [],
   "source": [
    "informationSchemaQuery = spark.sql(f\"\"\"\n",
    "            SELECT  table_name\n",
    "            FROM    {unityCatalogName}.information_schema.tables \n",
    "            WHERE   table_name = '{tableName}' \n",
    "            AND     table_schema='{unitySchemaName}' LIMIT 1\"\"\",\n",
    "        ).first()\n",
    "\n",
    "if informationSchemaQuery == None:\n",
    "    tableExists = False\n",
    "else: \n",
    "    tableExists = True"
   ]
  },
  {
   "cell_type": "markdown",
   "metadata": {
    "application/vnd.databricks.v1+cell": {
     "cellMetadata": {},
     "inputWidgets": {},
     "nuid": "a78a1270-36df-41d3-8477-d4213e43092a",
     "showTitle": false,
     "title": ""
    },
    "nteract": {
     "transient": {
      "deleting": false
     }
    }
   },
   "source": [
    "### Add Filename, Timestamp, Version Columns"
   ]
  },
  {
   "cell_type": "code",
   "execution_count": 0,
   "metadata": {
    "application/vnd.databricks.v1+cell": {
     "cellMetadata": {
      "byteLimit": 2048000,
      "rowLimit": 10000
     },
     "inputWidgets": {},
     "nuid": "0d72ec32-638d-4beb-a427-4dfc1fe38bba",
     "showTitle": false,
     "title": ""
    },
    "nteract": {
     "transient": {
      "deleting": false
     }
    }
   },
   "outputs": [],
   "source": [
    "# version\n",
    "raw_data = raw_data.withColumn('control_file_version',f.lit(version))\n",
    "\n",
    "# location in raw zone\n",
    "location_in_raw = raw_folderpath + raw_filename\n",
    "raw_data = raw_data.withColumn('location_in_raw', f.lit(location_in_raw))\n",
    "\n",
    "# timestamp\n",
    "now = str(datetime.datetime.now())\n",
    "raw_data = raw_data.withColumn('timestamp',f.to_timestamp(f.lit(now)))"
   ]
  },
  {
   "cell_type": "markdown",
   "metadata": {
    "application/vnd.databricks.v1+cell": {
     "cellMetadata": {},
     "inputWidgets": {},
     "nuid": "6d713f99-0d2d-459f-bc6f-6b594aafba4a",
     "showTitle": false,
     "title": ""
    },
    "nteract": {
     "transient": {
      "deleting": false
     }
    }
   },
   "source": [
    "### If table does **not** exist, create new delta table\n",
    "- Either with or without partitions"
   ]
  },
  {
   "cell_type": "code",
   "execution_count": 0,
   "metadata": {
    "application/vnd.databricks.v1+cell": {
     "cellMetadata": {
      "byteLimit": 2048000,
      "rowLimit": 10000
     },
     "inputWidgets": {},
     "nuid": "f26d9d39-56bc-4d75-bae1-a0cb301a030c",
     "showTitle": false,
     "title": ""
    },
    "nteract": {
     "transient": {
      "deleting": false
     }
    }
   },
   "outputs": [],
   "source": [
    "if tableExists == False:\n",
    "    if partition_cols == \"[]\":\n",
    "        #output with no partition specified\n",
    "        raw_data.write.format(\"delta\") \\\n",
    "                .option(\"path\", stagingAbfssPath) \\\n",
    "                .saveAsTable(tableName)\n",
    "    else:\n",
    "        # output with specified partition\n",
    "        raw_data.write.format(\"delta\") \\\n",
    "                .partitionBy(partition_cols_list) \\\n",
    "                .option(\"path\", stagingAbfssPath) \\\n",
    "                .saveAsTable(tableName)"
   ]
  },
  {
   "cell_type": "markdown",
   "metadata": {
    "application/vnd.databricks.v1+cell": {
     "cellMetadata": {},
     "inputWidgets": {},
     "nuid": "17e40cf9-a603-46bb-ba7e-cf40494b843a",
     "showTitle": false,
     "title": ""
    },
    "nteract": {
     "transient": {
      "deleting": false
     }
    }
   },
   "source": [
    "### Format primary key columns for merge statement"
   ]
  },
  {
   "cell_type": "code",
   "execution_count": 0,
   "metadata": {
    "application/vnd.databricks.v1+cell": {
     "cellMetadata": {},
     "inputWidgets": {},
     "nuid": "78ac13da-852f-4094-855c-c0848a31d544",
     "showTitle": false,
     "title": ""
    },
    "nteract": {
     "transient": {
      "deleting": false
     }
    }
   },
   "outputs": [],
   "source": [
    "# convert parameter primary_key_cols from string type to list type\n",
    "primary_key_cols_list = json.loads(primary_key_cols.replace(\"'\",'\"'))\n",
    "\n",
    "# set initial mergeOn statement using first primary key columns\n",
    "mergeOn = f'current.{primary_key_cols_list[0]} = new.{primary_key_cols_list[0]}'\n",
    "\n",
    "# Add additional primary key columns to string with preceeding AND\n",
    "for primary_key_col in primary_key_cols_list[1:]:\n",
    "    mergeOn = mergeOn + f' AND current.{primary_key_col} = new.{primary_key_col}'"
   ]
  },
  {
   "cell_type": "markdown",
   "metadata": {
    "application/vnd.databricks.v1+cell": {
     "cellMetadata": {},
     "inputWidgets": {},
     "nuid": "5ad6f22b-ddef-4617-86d8-8634fc051ec7",
     "showTitle": false,
     "title": ""
    },
    "nteract": {
     "transient": {
      "deleting": false
     }
    }
   },
   "source": [
    "### If Table Exists Merge New Data Into Existing Delta Table"
   ]
  },
  {
   "cell_type": "code",
   "execution_count": 0,
   "metadata": {
    "application/vnd.databricks.v1+cell": {
     "cellMetadata": {},
     "inputWidgets": {},
     "nuid": "9fe967ae-763e-417e-8c26-59f7d329a69e",
     "showTitle": false,
     "title": ""
    },
    "nteract": {
     "transient": {
      "deleting": false
     }
    }
   },
   "outputs": [],
   "source": [
    "spark.conf.set(\"spark.databricks.delta.schema.autoMerge.enabled\",\"true\")\n",
    "\n",
    "if tableExists == True:\n",
    "    deltaTablePointer = DeltaTable.forPath(spark, stagingAbfssPath)\n",
    "\n",
    "    # Drop Null Struct/Array Columns\n",
    "    array_struct_cols = [column[0] for column in raw_data.dtypes if (('struct' in column[1]) | ('array' in column[1]))]\n",
    "    null_cols = [column for column in array_struct_cols if raw_data.select(f.col(column).isNull().cast(\"int\").alias(column)).agg({column: \"sum\"}).collect()[0][0] == 0]\n",
    "    raw_data = raw_data.drop(*null_cols)\n",
    "\n",
    "    # try merge 3 times \n",
    "    try:\n",
    "        deltaTablePointer.alias(\"current\").merge(\n",
    "            raw_data.alias(\"new\"), f\"{mergeOn}\" ) \\\n",
    "            .whenMatchedUpdateAll() \\\n",
    "            .whenNotMatchedInsertAll() \\\n",
    "            .execute()\n",
    "    except:\n",
    "        # wait 30 seconds\n",
    "        time.sleep(30)\n",
    "        try:\n",
    "            deltaTablePointer.alias(\"current\").merge(\n",
    "            raw_data.alias(\"new\"), f\"{mergeOn}\" ) \\\n",
    "            .whenMatchedUpdateAll() \\\n",
    "            .whenNotMatchedInsertAll() \\\n",
    "            .execute()\n",
    "        except:\n",
    "            # wait 30 seconds\n",
    "            time.sleep(30)\n",
    "            deltaTablePointer.alias(\"current\").merge(\n",
    "            raw_data.alias(\"new\"), f\"{mergeOn}\" ) \\\n",
    "            .whenMatchedUpdateAll() \\\n",
    "            .whenNotMatchedInsertAll() \\\n",
    "            .execute()"
   ]
  }
 ],
 "metadata": {
  "application/vnd.databricks.v1+notebook": {
   "dashboards": [],
   "language": "python",
   "notebookMetadata": {
    "mostRecentlyExecutedCommandWithImplicitDF": {
     "commandId": 136615401200186,
     "dataframes": [
      "_sqldf"
     ]
    },
    "pythonIndentUnit": 4
   },
   "notebookName": "NB_Raw_to_Staging",
   "widgets": {
    "dataLakeStorageAccountName": {
     "currentValue": "",
     "nuid": "4cd731a3-94c2-4ab9-9984-aeb692116ccb",
     "widgetInfo": {
      "widgetType": "text",
      "defaultValue": "",
      "label": "",
      "name": "dataLakeStorageAccountName",
      "options": {
       "widgetType": "text",
       "autoCreated": false,
       "validationRegex": null
      }
     }
    },
    "date_partition_column": {
     "currentValue": "",
     "nuid": "743a7bb5-e44f-4b5f-be15-152e8ad6c45e",
     "widgetInfo": {
      "widgetType": "text",
      "defaultValue": "",
      "label": "",
      "name": "date_partition_column",
      "options": {
       "widgetType": "text",
       "autoCreated": false,
       "validationRegex": null
      }
     }
    },
    "file_type": {
     "currentValue": "parquet",
     "nuid": "e439578d-d148-47e1-9bb8-10c809357e40",
     "widgetInfo": {
      "widgetType": "text",
      "defaultValue": "",
      "label": "",
      "name": "file_type",
      "options": {
       "widgetType": "text",
       "autoCreated": false,
       "validationRegex": null
      }
     }
    },
    "partition_cols": {
     "currentValue": "[]",
     "nuid": "d80c4c78-e497-4409-b3ab-c5a46e6d22b1",
     "widgetInfo": {
      "widgetType": "text",
      "defaultValue": "",
      "label": "",
      "name": "partition_cols",
      "options": {
       "widgetType": "text",
       "autoCreated": false,
       "validationRegex": null
      }
     }
    },
    "primary_key_cols": {
     "currentValue": "['PROMOTIONKEY']",
     "nuid": "746b1fd2-200f-4033-b1cd-aab3a0543145",
     "widgetInfo": {
      "widgetType": "text",
      "defaultValue": "",
      "label": "",
      "name": "primary_key_cols",
      "options": {
       "widgetType": "text",
       "autoCreated": false,
       "validationRegex": null
      }
     }
    },
    "raw_filename": {
     "currentValue": "DATASTRATEGY_PROMOTION_20240205182856.parquet",
     "nuid": "cc5209d7-5e56-48a1-a991-0b715a6fc8dd",
     "widgetInfo": {
      "widgetType": "text",
      "defaultValue": "",
      "label": "",
      "name": "raw_filename",
      "options": {
       "widgetType": "text",
       "autoCreated": false,
       "validationRegex": null
      }
     }
    },
    "raw_folderpath": {
     "currentValue": "raw/Oracle/DATASTRATEGY/PROMOTION/v1/full/2024/02/05/18/31/",
     "nuid": "eec6c607-96a1-48b7-9630-85e49260bec7",
     "widgetInfo": {
      "widgetType": "text",
      "defaultValue": "",
      "label": "",
      "name": "raw_folderpath",
      "options": {
       "widgetType": "text",
       "autoCreated": false,
       "validationRegex": null
      }
     }
    },
    "sinkFolderPath": {
     "currentValue": "Oracle/DATASTRATEGY/PROMOTION/",
     "nuid": "3fea4362-5662-4881-ac92-d29cfd131294",
     "widgetInfo": {
      "widgetType": "text",
      "defaultValue": "",
      "label": "",
      "name": "sinkFolderPath",
      "options": {
       "widgetType": "text",
       "autoCreated": false,
       "validationRegex": null
      }
     }
    },
    "tableName": {
     "currentValue": "promotion",
     "nuid": "aef48822-2618-4588-8d1f-ad1b4d9ef374",
     "widgetInfo": {
      "widgetType": "text",
      "defaultValue": "",
      "label": "",
      "name": "tableName",
      "options": {
       "widgetType": "text",
       "autoCreated": false,
       "validationRegex": null
      }
     }
    },
    "unityCatalogName": {
     "currentValue": "main",
     "nuid": "4b492e74-d9af-4e94-86b8-0cb7f77ca8e2",
     "widgetInfo": {
      "widgetType": "text",
      "defaultValue": "",
      "label": "",
      "name": "unityCatalogName",
      "options": {
       "widgetType": "text",
       "autoCreated": false,
       "validationRegex": null
      }
     }
    },
    "unitySchemaName": {
     "currentValue": "default",
     "nuid": "c58ddc71-c352-48ad-8b4b-409d86453709",
     "widgetInfo": {
      "widgetType": "text",
      "defaultValue": "",
      "label": "",
      "name": "unitySchemaName",
      "options": {
       "widgetType": "text",
       "autoCreated": false,
       "validationRegex": null
      }
     }
    }
   }
  },
  "description": null,
  "kernelspec": {
   "display_name": "Synapse PySpark",
   "name": "synapse_pyspark"
  },
  "language_info": {
   "name": "python"
  },
  "save_output": true,
  "synapse_widget": {
   "state": {},
   "version": "0.1"
  }
 },
 "nbformat": 4,
 "nbformat_minor": 0
}
