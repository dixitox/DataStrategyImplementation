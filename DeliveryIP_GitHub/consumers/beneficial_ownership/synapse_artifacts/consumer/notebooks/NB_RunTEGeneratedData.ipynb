{
  "nbformat": 4,
  "nbformat_minor": 2,
  "cells": [
    {
      "cell_type": "code",
      "execution_count": 1,
      "outputs": [],
      "metadata": {
        "jupyter": {
          "source_hidden": false,
          "outputs_hidden": false
        },
        "nteract": {
          "transient": {
            "deleting": false
          }
        }
      },
      "source": [
        "%%configure -f\r\n",
        "{\r\n",
        "    \"conf\":\r\n",
        "    {\r\n",
        "        \"spark.sql.shuffle.partitions\": 16,\r\n",
        "        \"spark.sql.broadcastTimeout\": 14400,\r\n",
        "        \"spark.port.maxRetries\": 100\r\n",
        "\r\n",
        "    }\r\n",
        "}"
      ]
    },
    {
      "cell_type": "code",
      "execution_count": 2,
      "outputs": [],
      "metadata": {},
      "source": [
        "from typing import Dict\r\n",
        "from transparency_engine.containers import ContainerKeys, build_container\r\n",
        "from transparency_engine.io.data_handler import DataHandler, DataHandlerModes\r\n",
        "from transparency_engine.pipeline import TransparencyPipeline\r\n",
        "from transparency_engine.typing import PipelineSteps"
      ]
    },
    {
      "cell_type": "markdown",
      "metadata": {
        "nteract": {
          "transient": {
            "deleting": false
          }
        }
      },
      "source": [
        "## Pipeline Configurations"
      ]
    },
    {
      "cell_type": "code",
      "execution_count": 3,
      "outputs": [],
      "metadata": {
        "jupyter": {
          "source_hidden": false,
          "outputs_hidden": false
        },
        "nteract": {
          "transient": {
            "deleting": false
          }
        }
      },
      "source": [
        "#Storage Config\r\n",
        "import json\r\n",
        "storageLinkedService = 'LS_DataLake'\r\n",
        "storageAccount_ls = mssparkutils.credentials.getPropertiesAll(storageLinkedService)\r\n",
        "storage_account = json.loads(storageAccount_ls)['Endpoint'].split('.')[0].replace('https://','')"
      ]
    },
    {
      "cell_type": "code",
      "execution_count": 4,
      "outputs": [],
      "metadata": {
        "jupyter": {
          "source_hidden": false,
          "outputs_hidden": false
        },
        "nteract": {
          "transient": {
            "deleting": false
          }
        }
      },
      "source": [
        "pipeline_config = {\r\n",
        "    \"name\": \"Transparency Engine Pipeline\",\r\n",
        "    \"description\": \"Demo of the Transparency Engine using synthetic data\",\r\n",
        "    \"storage\": {\r\n",
        "        \"type\": \"hive\",\r\n",
        "        \"root\": \"TE_GeneratedData\"\r\n",
        "    },\r\n",
        "    \"steps\": [\r\n",
        "        \"prep\",\r\n",
        "        \"individual_link_prediction\",\r\n",
        "        \"individual_link_filtering\",\r\n",
        "        \"macro_link_prediction\",\r\n",
        "        \"macro_link_filtering\",\r\n",
        "        \"scoring\",\r\n",
        "        \"report\"\r\n",
        "    ]\r\n",
        "}"
      ]
    },
    {
      "cell_type": "code",
      "execution_count": 5,
      "outputs": [],
      "metadata": {
        "jupyter": {
          "source_hidden": false,
          "outputs_hidden": false
        },
        "nteract": {
          "transient": {
            "deleting": false
          }
        }
      },
      "source": [
        "step_config = {\r\n",
        "    \"steps\": {\r\n",
        "        \"prep\": [\r\n",
        "            {\r\n",
        "                \"name\": \"activity\",\r\n",
        "                \"type\": \"dynamic\",\r\n",
        "                \"path\": \"abfss://curated@\"+storage_account+\".dfs.core.windows.net/BeneficialOwnershipModel/GeneratedData/CSV/activity.csv\",\r\n",
        "            \r\n",
        "                \"steps\": [\r\n",
        "                    \"load\",\r\n",
        "                    \"preprocess\"\r\n",
        "                ],\r\n",
        "                \"config\": {}\r\n",
        "            },\r\n",
        "            {\r\n",
        "                \"name\": \"contact\",\r\n",
        "                \"type\": \"static\",\r\n",
        "                \"path\": \"abfss://curated@\"+storage_account+\".dfs.core.windows.net/BeneficialOwnershipModel/GeneratedData/CSV/contact.csv\",\r\n",
        "                \"steps\": [\r\n",
        "                    \"load\",\r\n",
        "                    \"preprocess\"\r\n",
        "                ],\r\n",
        "                \"fuzzy_match_on\": [\r\n",
        "                    \"name\",\r\n",
        "                    \"address\"\r\n",
        "                ],\r\n",
        "                \"config\": {}\r\n",
        "            },\r\n",
        "            {\r\n",
        "                \"name\": \"ownership\",\r\n",
        "                \"type\": \"static\",\r\n",
        "                \"path\": \"abfss://curated@\"+storage_account+\".dfs.core.windows.net/BeneficialOwnershipModel/GeneratedData/CSV/ownership.csv\",\r\n",
        "                \"steps\": [\r\n",
        "                    \"load\",\r\n",
        "                    \"preprocess\"\r\n",
        "                ],\r\n",
        "                \"config\": {}\r\n",
        "            },\r\n",
        "            {\r\n",
        "                \"name\": \"entity\",\r\n",
        "                \"type\": \"entity\",\r\n",
        "                \"path\": \"abfss://curated@\"+storage_account+\".dfs.core.windows.net/BeneficialOwnershipModel/GeneratedData/CSV/entity.csv\",\r\n",
        "                \"steps\": [\r\n",
        "                    \"load\"\r\n",
        "                ]\r\n",
        "            },\r\n",
        "            {\r\n",
        "                \"name\": \"entityReviewFlag\",\r\n",
        "                \"type\": \"reviewflag\",\r\n",
        "                \"path\": \"abfss://curated@\"+storage_account+\".dfs.core.windows.net/BeneficialOwnershipModel/GeneratedData/CSV/redflag.csv\",\r\n",
        "                \"metadata\": {\r\n",
        "                    \"type\": \"reviewflagmetadata\",\r\n",
        "                    \"path\": \"abfss://curated@\"+storage_account+\".dfs.core.windows.net/BeneficialOwnershipModel/GeneratedData/CSV/flag_definitions.csv\"\r\n",
        "                },\r\n",
        "                \"steps\": [\r\n",
        "                    \"load\",\r\n",
        "                    \"preprocess\"\r\n",
        "                ]\r\n",
        "            },\r\n",
        "            {\r\n",
        "                \"name\": \"attributeDefinition\",\r\n",
        "                \"type\": \"metadata\",\r\n",
        "                \"path\": \"abfss://curated@\"+storage_account+\".dfs.core.windows.net/BeneficialOwnershipModel/GeneratedData/CSV/attribute_definitions.csv\",\r\n",
        "                \"steps\": [\r\n",
        "                    \"load\"\r\n",
        "                ]\r\n",
        "            }\r\n",
        "        ],\r\n",
        "        \"individual_link_prediction\": {\r\n",
        "            \"static\": [\r\n",
        "                {\r\n",
        "                    \"name\": \"contact\",\r\n",
        "                    \"config\": {}\r\n",
        "                },\r\n",
        "                {\r\n",
        "                    \"name\": \"ownership\",\r\n",
        "                    \"config\": {}\r\n",
        "                }\r\n",
        "            ],\r\n",
        "            \"dynamic\": [\r\n",
        "                {\r\n",
        "                    \"name\": \"activity\",\r\n",
        "                    \"config\": {}\r\n",
        "                }\r\n",
        "            ]\r\n",
        "        },\r\n",
        "        \"individual_link_filtering\": {\r\n",
        "            \"dynamic\": [\r\n",
        "                {\r\n",
        "                    \"name\": \"activity\",\r\n",
        "                    \"config\": {\r\n",
        "                        \"sync_attributes\": [\r\n",
        "                            \"tender\",\r\n",
        "                            \"buyer\",\r\n",
        "                            \"item\"\r\n",
        "                        ],\r\n",
        "                        \"async_attributes\": [\r\n",
        "                            \"buyer\",\r\n",
        "                            \"item\"\r\n",
        "                        ]\r\n",
        "                    }\r\n",
        "                }\r\n",
        "            ]\r\n",
        "        },\r\n",
        "        \"macro_link_prediction\": {\r\n",
        "            \"name\": \"macro\",\r\n",
        "            \"inputs\": [\r\n",
        "                \"activity_filtered_links\",\r\n",
        "                \"contact_links\",\r\n",
        "                \"ownership_links\"\r\n",
        "            ]\r\n",
        "        },\r\n",
        "        \"macro_link_filtering\": {\r\n",
        "            \"name\": \"macro\",\r\n",
        "            \"static\": [\r\n",
        "                {\r\n",
        "                    \"name\": \"contact\",\r\n",
        "                    \"config\": {}\r\n",
        "                },\r\n",
        "                {\r\n",
        "                    \"name\": \"ownership\",\r\n",
        "                    \"config\": {}\r\n",
        "                }\r\n",
        "            ],\r\n",
        "            \"dynamic\": [\r\n",
        "                {\r\n",
        "                    \"name\": \"activity\",\r\n",
        "                    \"config\": {}\r\n",
        "                }\r\n",
        "            ]\r\n",
        "        },\r\n",
        "        \"scoring\": {\r\n",
        "            \"entity\": \"entity\",\r\n",
        "            \"entity_flag\": \"entityReviewFlag\",\r\n",
        "            \"flag_metadata\": \"entityReviewFlag_metadata\",\r\n",
        "            \"predicted_links\": \"macro\",\r\n",
        "            \"config\": {}\r\n",
        "        },\r\n",
        "        \"report\": {\r\n",
        "            \"entity\": \"entity\",\r\n",
        "            \"static\": [\r\n",
        "                {\r\n",
        "                    \"name\": \"contact\",\r\n",
        "                    \"config\": {}\r\n",
        "                },\r\n",
        "                {\r\n",
        "                    \"name\": \"ownership\",\r\n",
        "                    \"config\": {}\r\n",
        "                }\r\n",
        "\r\n",
        "            ],\r\n",
        "            \"dynamic\": [\r\n",
        "                {\r\n",
        "                    \"name\": \"activity\",\r\n",
        "                    \"config\": {}\r\n",
        "                }\r\n",
        "            ],\r\n",
        "            \"other\": [],\r\n",
        "            \"entity_flag\": \"entityReviewFlag\",\r\n",
        "            \"network_score\": \"network_scoring\",\r\n",
        "            \"predicted_links\": \"macro\",\r\n",
        "            \"flag_metadata\": \"entityReviewFlag_metadata\",\r\n",
        "            \"attribute_metadata\": \"attributeDefinition\",\r\n",
        "            \"config\": {\r\n",
        "                \"sync_attributes\": [\r\n",
        "                    \"tender\",\r\n",
        "                    \"buyer\",\r\n",
        "                    \"item\"\r\n",
        "                ],\r\n",
        "                \"async_attributes\": [\r\n",
        "                    \"buyer\",\r\n",
        "                    \"item\"\r\n",
        "                ],\r\n",
        "                \"entity_name_attribute\": \"company_name\"\r\n",
        "            }\r\n",
        "        }\r\n",
        "    }\r\n",
        "}"
      ]
    },
    {
      "cell_type": "markdown",
      "metadata": {
        "nteract": {
          "transient": {
            "deleting": false
          }
        }
      },
      "source": [
        "## Pipeline Execution"
      ]
    },
    {
      "cell_type": "code",
      "execution_count": 6,
      "outputs": [],
      "metadata": {
        "jupyter": {
          "source_hidden": false,
          "outputs_hidden": false
        },
        "nteract": {
          "transient": {
            "deleting": false
          }
        }
      },
      "source": [
        "pipeline = TransparencyPipeline()\r\n",
        "\r\n",
        "storage_config: Dict[str, str] = pipeline_config.get(\"storage\", dict())\r\n",
        "\r\n",
        "build_container(\r\n",
        "    {\r\n",
        "        ContainerKeys.STEP_CONFIG: step_config,\r\n",
        "        ContainerKeys.PIPELINE_CONFIG: pipeline_config,\r\n",
        "        ContainerKeys.DATA_HANDLER: (\r\n",
        "            DataHandler,\r\n",
        "            DataHandlerModes.from_string(storage_config.get(\"type\", \"\")),\r\n",
        "            storage_config.get(\"root\", \"\"),\r\n",
        "        ),\r\n",
        "    },\r\n",
        "    modules=[\"transparency_engine.pipeline\"],\r\n",
        "    packages=[],\r\n",
        ")"
      ]
    },
    {
      "cell_type": "code",
      "execution_count": null,
      "outputs": [],
      "metadata": {
        "jupyter": {
          "source_hidden": false,
          "outputs_hidden": false
        },
        "nteract": {
          "transient": {
            "deleting": false
          }
        }
      },
      "source": [
        "steps = PipelineSteps.from_string_list(pipeline_config.get(\"steps\", []))\r\n",
        "pipeline.run(steps=steps)"
      ]
    },
    {
      "cell_type": "code",
      "execution_count": null,
      "outputs": [],
      "metadata": {
        "jupyter": {
          "source_hidden": false,
          "outputs_hidden": false
        },
        "nteract": {
          "transient": {
            "deleting": false
          }
        }
      },
      "source": [
        ""
      ]
    }
  ],
  "metadata": {
    "description": null,
    "save_output": true,
    "kernelspec": {
      "name": "synapse_pyspark",
      "display_name": "Synapse PySpark"
    },
    "language_info": {
      "name": "python"
    }
  }
}