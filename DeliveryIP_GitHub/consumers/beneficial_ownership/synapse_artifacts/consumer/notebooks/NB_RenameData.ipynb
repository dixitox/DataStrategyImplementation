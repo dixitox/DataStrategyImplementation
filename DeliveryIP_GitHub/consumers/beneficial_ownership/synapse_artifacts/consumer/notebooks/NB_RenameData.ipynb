{
  "nbformat": 4,
  "nbformat_minor": 2,
  "metadata": {
    "kernelspec": {
      "name": "synapse_pyspark",
      "display_name": "Synapse PySpark"
    },
    "language_info": {
      "name": "python"
    },
    "description": null,
    "save_output": true,
    "synapse_widget": {
      "version": "0.1",
      "state": {}
    }
  },
  "cells": [
    {
      "cell_type": "code",
      "execution_count": 1,
      "outputs": [
        {
          "output_type": "display_data",
          "data": {
            "application/vnd.livy.statement-meta+json": {
              "spark_pool": null,
              "session_id": null,
              "statement_id": null,
              "state": "cancelled",
              "livy_statement_state": null,
              "queued_time": "2023-03-30T18:15:45.0469762Z",
              "session_start_time": "2023-03-30T18:15:45.1259723Z",
              "execution_start_time": null,
              "execution_finish_time": "2023-03-30T18:16:07.9513097Z",
              "spark_jobs": null,
              "parent_msg_id": "5d30a866-70e9-4b33-8a58-c3f81f367289"
            },
            "text/plain": "StatementMeta(, , , Cancelled, )"
          },
          "metadata": {}
        }
      ],
      "metadata": {
        "jupyter": {
          "source_hidden": false,
          "outputs_hidden": false
        },
        "nteract": {
          "transient": {
            "deleting": false
          }
        }
      },
      "source": [
        "import json\r\n",
        "import pyspark.sql.functions as f"
      ]
    },
    {
      "cell_type": "code",
      "execution_count": 1,
      "outputs": [
        {
          "output_type": "display_data",
          "data": {
            "application/vnd.livy.statement-meta+json": {
              "spark_pool": "defaultSpark33",
              "session_id": "4",
              "statement_id": 1,
              "state": "finished",
              "livy_statement_state": "available",
              "queued_time": "2023-03-14T16:41:33.6873106Z",
              "session_start_time": "2023-03-14T16:41:33.7482523Z",
              "execution_start_time": "2023-03-14T16:44:26.3529711Z",
              "execution_finish_time": "2023-03-14T16:44:26.5113231Z",
              "spark_jobs": null,
              "parent_msg_id": "860522df-5ea3-453c-bde9-f32c79b3f51a"
            },
            "text/plain": "StatementMeta(defaultSpark33, 4, 1, Finished, Available)"
          },
          "metadata": {}
        }
      ],
      "metadata": {
        "tags": [
          "parameters"
        ]
      },
      "source": [
        "#PARAMETERS\r\n",
        "folderpath = \"\"\r\n",
        "filename = \"\"\r\n",
        "mapping = \"\"\r\n",
        "sinkdbTable = \"\""
      ]
    },
    {
      "cell_type": "code",
      "execution_count": null,
      "outputs": [],
      "metadata": {
        "jupyter": {
          "source_hidden": false,
          "outputs_hidden": false
        },
        "nteract": {
          "transient": {
            "deleting": false
          }
        }
      },
      "source": [
        "#Storage Config\r\n",
        "storageLinkedService = 'LS_DataLake'\r\n",
        "storageAccount_ls = mssparkutils.credentials.getPropertiesAll(storageLinkedService)\r\n",
        "storage_account = json.loads(storageAccount_ls)['Endpoint'].split('.')[0].replace('https://','')\r\n",
        "container = 'raw'"
      ]
    },
    {
      "cell_type": "code",
      "execution_count": null,
      "outputs": [
        {
          "output_type": "display_data",
          "data": {
            "application/vnd.livy.statement-meta+json": {
              "spark_pool": null,
              "session_id": null,
              "statement_id": null,
              "state": "cancelled",
              "livy_statement_state": null,
              "queued_time": "2023-03-30T18:15:52.5482103Z",
              "session_start_time": null,
              "execution_start_time": null,
              "execution_finish_time": "2023-03-30T18:16:07.9491916Z",
              "spark_jobs": null,
              "parent_msg_id": "c8056bc4-f06e-4989-bc0a-cffc648d3f12"
            },
            "text/plain": "StatementMeta(, , , Cancelled, )"
          },
          "metadata": {}
        }
      ],
      "metadata": {
        "jupyter": {
          "source_hidden": false,
          "outputs_hidden": false
        },
        "nteract": {
          "transient": {
            "deleting": false
          }
        }
      },
      "source": [
        "# ## TEST PARAMETERS\r\n",
        "# container = \"raw\"\r\n",
        "# folderpath = \"BeneficialOwnership/OpenData/Ownership/CustomerData/v1/full/2023/03/15\"\r\n",
        "# filename = \"customerdata_ownership_entity.csv\"\r\n",
        "# storage_account = \"actstaxdatalakedev60\"\r\n",
        ""
      ]
    },
    {
      "cell_type": "code",
      "execution_count": null,
      "outputs": [
        {
          "output_type": "display_data",
          "data": {
            "application/vnd.livy.statement-meta+json": {
              "spark_pool": null,
              "session_id": null,
              "statement_id": null,
              "state": "cancelled",
              "livy_statement_state": null,
              "queued_time": "2023-03-30T18:15:53.891054Z",
              "session_start_time": null,
              "execution_start_time": null,
              "execution_finish_time": "2023-03-30T18:16:07.9497354Z",
              "spark_jobs": null,
              "parent_msg_id": "f5dd7746-a74a-416a-8c4f-a57134315eec"
            },
            "text/plain": "StatementMeta(, , , Cancelled, )"
          },
          "metadata": {}
        }
      ],
      "metadata": {
        "jupyter": {
          "source_hidden": false,
          "outputs_hidden": false
        },
        "nteract": {
          "transient": {
            "deleting": false
          }
        }
      },
      "source": [
        "## TEST PARAMETERS - MAPPINGS\r\n",
        "#Uncomment mapping for desired test\r\n",
        "\r\n",
        "#Ownership - Entity\r\n",
        "# mapping = '''{\r\n",
        "#     \"type\":\"Open Ownership Entity\",\r\n",
        "#     \"mappings\":[\r\n",
        "        \r\n",
        "#         {\r\n",
        "#             \"source\":{\"sourceColumn\":\"name\"},\r\n",
        "#             \"sink\":{\"sinkColumn\":\"name\"}\r\n",
        "#         },\r\n",
        "#         {\r\n",
        "#             \"source\":{\"sourceColumn\":\"address\"},\r\n",
        "#             \"sink\":{\"sinkColumn\":\"address\"}\r\n",
        "#         },\r\n",
        "#         {\r\n",
        "#             \"source\":{\"sourceColumn\":\"website\"},\r\n",
        "#             \"sink\":{\"sinkColumn\":\"website\"}\r\n",
        "#         },\r\n",
        "#         {\r\n",
        "#             \"source\":{\"sourceColumn\":\"ID\"},\r\n",
        "#             \"sink\":{\"sinkColumn\":\"EntityID\"}\r\n",
        "#         }\r\n",
        "#     ]\r\n",
        "# }'''\r\n",
        "\r\n",
        "\r\n",
        "# #Ownership - Person\r\n",
        "# mapping = '''{\r\n",
        "#     \"type\":\"Open Ownership Person\",\r\n",
        "#     \"mappings\":[\r\n",
        "        \r\n",
        "#         {\r\n",
        "#             \"source\":{\"sourceColumn\":\"ID\"},\r\n",
        "#             \"sink\":{\"sinkColumn\":\"EntityID\"}\r\n",
        "#         },\r\n",
        "#         {\r\n",
        "#             \"source\":{\"sourceColumn\":\"name\"},\r\n",
        "#             \"sink\":{\"sinkColumn\":\"Value\"}\r\n",
        "#         }\r\n",
        "        \r\n",
        "#     ]\r\n",
        "# }'''\r\n",
        "\r\n",
        "# #Contracting_Activity\r\n",
        "# mapping = '''{\r\n",
        "#     \"type\":\"Open Contracting Activity\",\r\n",
        "#     \"mappings\":[\r\n",
        "        \r\n",
        "#         {\r\n",
        "#             \"source\":{\"sourceColumn\":\"name\"},\r\n",
        "#             \"sink\":{\"sinkColumn\":\"tender\"}\r\n",
        "#         },\r\n",
        "#         {\r\n",
        "#             \"source\":{\"sourceColumn\":\"name\"},\r\n",
        "#             \"sink\":{\"sinkColumn\":\"EntityID\"}\r\n",
        "#         },\r\n",
        "#         {\r\n",
        "#             \"source\":{\"sourceColumn\":\"name\"},\r\n",
        "#             \"sink\":{\"sinkColumn\":\"buyer\"}\r\n",
        "#         },\r\n",
        "#         {\r\n",
        "#             \"source\":{\"sourceColumn\":\"name\"},\r\n",
        "#             \"sink\":{\"sinkColumn\":\"item\"}\r\n",
        "#         },\r\n",
        "#         {\r\n",
        "#             \"source\":{\"sourceColumn\":\"name\"},\r\n",
        "#             \"sink\":{\"sinkColumn\":\"lot\"}\r\n",
        "#         },\r\n",
        "#         {\r\n",
        "#             \"source\":{\"sourceColumn\":\"name\"},\r\n",
        "#             \"sink\":{\"sinkColumn\":\"TimePeriod\"}\r\n",
        "#         }\r\n",
        "#     ]\r\n",
        "# }'''\r\n",
        "\r\n",
        "\r\n",
        "\r\n",
        "# #Contracting_Contact\r\n",
        "# mapping = '''{\r\n",
        "#     \"type\":\"Open Contracting Contact\",\r\n",
        "#     \"mappings\":[\r\n",
        "        \r\n",
        "#         {\r\n",
        "#             \"source\":{\"sourceColumn\":\"name\"},\r\n",
        "#             \"sink\":{\"sinkColumn\":\"EntityID\"}\r\n",
        "#         },\r\n",
        "#         {\r\n",
        "#             \"source\":{\"sourceColumn\":\"name\"},\r\n",
        "#             \"sink\":{\"sinkColumn\":\"name\"}\r\n",
        "#         },\r\n",
        "#         {\r\n",
        "#             \"source\":{\"sourceColumn\":\"name\"},\r\n",
        "#             \"sink\":{\"sinkColumn\":\"email\"}\r\n",
        "#         },\r\n",
        "#         {\r\n",
        "#             \"source\":{\"sourceColumn\":\"name\"},\r\n",
        "#             \"sink\":{\"sinkColumn\":\"address\"}\r\n",
        "#         },\r\n",
        "#         {\r\n",
        "#             \"source\":{\"sourceColumn\":\"name\"},\r\n",
        "#             \"sink\":{\"sinkColumn\":\"phone\"}\r\n",
        "#         },\r\n",
        "#         {\r\n",
        "#             \"source\":{\"sourceColumn\":\"name\"},\r\n",
        "#             \"sink\":{\"sinkColumn\":\"website\"}\r\n",
        "#         }\r\n",
        "#     ]\r\n",
        "# }''\r\n",
        "\r\n",
        "\r\n",
        "#Corporate\r\n",
        "# mapping = '''{\r\n",
        "#     \"type\":\"Open Corporate\",\r\n",
        "#     \"mappings\":[\r\n",
        "        \r\n",
        "#         {\r\n",
        "#             \"source\":{\"sourceColumn\":\"name\"},\r\n",
        "#             \"sink\":{\"sinkColumn\":\"name\"}\r\n",
        "#         },\r\n",
        "#         {\r\n",
        "#             \"source\":{\"sourceColumn\":\"address\"},\r\n",
        "#             \"sink\":{\"sinkColumn\":\"address\"}\r\n",
        "#         },\r\n",
        "#         {\r\n",
        "#             \"source\":{\"sourceColumn\":\"website\"},\r\n",
        "#             \"sink\":{\"sinkColumn\":\"website\"}\r\n",
        "#         },\r\n",
        "#         {\r\n",
        "#             \"source\":{\"sourceColumn\":\"ID\"},\r\n",
        "#             \"sink\":{\"sinkColumn\":\"EntityID\"}\r\n",
        "#         }\r\n",
        "#     ]\r\n",
        "# }'''\r\n",
        "\r\n",
        "\r\n",
        "\r\n",
        "#Sanctions\r\n",
        "# mapping = '''{\r\n",
        "#     \"type\":\"Open Sanctions\",\r\n",
        "#     \"mappings\":[\r\n",
        "        \r\n",
        "#         {\r\n",
        "#             \"source\":{\"sourceColumn\":\"id\"},\r\n",
        "#             \"sink\":{\"sinkColumn\":\"EntityID\"}\r\n",
        "#         },\r\n",
        "#         {\r\n",
        "#             \"source\":{\"sourceColumn\":\"schema\"},\r\n",
        "#             \"sink\":{\"sinkColumn\":\"Category\"}\r\n",
        "#         },\r\n",
        "#         {\r\n",
        "#             \"source\":{\"sourceColumn\":\"program\"},\r\n",
        "#             \"sink\":{\"sinkColumn\":\"Description\"}\r\n",
        "#         },\r\n",
        "#         {\r\n",
        "#             \"source\":{\"sourceColumn\":\"ID\"},\r\n",
        "#             \"sink\":{\"sinkColumn\":\"Evidence\"}\r\n",
        "#         }\r\n",
        "#     ]\r\n",
        "# }'''\r\n",
        ""
      ]
    },
    {
      "cell_type": "markdown",
      "metadata": {
        "nteract": {
          "transient": {
            "deleting": false
          }
        }
      },
      "source": [
        "## Main Function "
      ]
    },
    {
      "cell_type": "code",
      "execution_count": null,
      "outputs": [
        {
          "output_type": "display_data",
          "data": {
            "application/vnd.livy.statement-meta+json": {
              "spark_pool": null,
              "session_id": null,
              "statement_id": null,
              "state": "cancelled",
              "livy_statement_state": null,
              "queued_time": "2023-03-30T18:15:55.269079Z",
              "session_start_time": null,
              "execution_start_time": null,
              "execution_finish_time": "2023-03-30T18:16:07.9501782Z",
              "spark_jobs": null,
              "parent_msg_id": "70e6d46c-d2b9-4add-8571-47beffda43cf"
            },
            "text/plain": "StatementMeta(, , , Cancelled, )"
          },
          "metadata": {}
        }
      ],
      "metadata": {
        "jupyter": {
          "source_hidden": false,
          "outputs_hidden": false
        },
        "nteract": {
          "transient": {
            "deleting": false
          }
        }
      },
      "source": [
        "def ProcessCustomerData(mapping, container, storage_account, folderpath, filename, table):\r\n",
        "\r\n",
        "    #Step 1: Read File\r\n",
        "    initialDataframe = spark.read.csv( 'abfss://'+container+'@'+ storage_account + '.dfs.core.windows.net/'+ folderpath+'/'+ filename, sep=',',\r\n",
        "                         inferSchema=True, header=True)\r\n",
        "\r\n",
        "    #Step 2: Parse Mapping JSON\r\n",
        "    mapping_json = json.loads(mapping)\r\n",
        "    columnMappingsDict = list(mapping_json['mappings'])\r\n",
        "    columnMappings = [(columnMapping['source'], columnMapping['sink']) for columnMapping in columnMappingsDict]\r\n",
        "\r\n",
        "    #Step 3: Rename Columns\r\n",
        "    updated_columns = [f.col(mapping[0]).alias(mapping[1]) for mapping in columnMappings]\r\n",
        "    newDataframe=initialDataframe.select([c.cast('string') for c in updated_columns])\r\n",
        "\r\n",
        "    #Step 4: Output to Staging in Expected Format\r\n",
        "    if sinkdbTable == 'OpenOwnershipEntity' or sinkdbTable == 'OpenCorporate':\r\n",
        "        final_df = newDataframe.selectExpr(\"EntityID\", \"stack(3, 'name', name, 'website', website, 'address', address) as (AttributeID, Value)\").where(\"EntityID is not null\")\r\n",
        "        \r\n",
        "        if sinkdbTable =='OpenOwnershipEntity':\r\n",
        "            final_df.write.mode(\"overwrite\").parquet('abfss://'+'staging'+'@'+ storage_account + '.dfs.core.windows.net/'+ 'BeneficialOwnership/OpenData/Ownership/Entity/OwnershipDF_Processed/CustomerData')\r\n",
        "        else:\r\n",
        "            final_df.write.mode(\"overwrite\").parquet('abfss://'+'staging'+'@'+ storage_account + '.dfs.core.windows.net/'+ 'BeneficialOwnership/OpenData/Corporate/CorporateDF_Processed/CustomerData')\r\n",
        "    \r\n",
        "    elif sinkdbTable == 'OpenContractingActivity':\r\n",
        "        final_df = newDataframe.selectExpr(\"TimePeriod\", \"EntityID\", \"stack(4, 'tender', tender, 'buyer', buyer, 'item', item, 'lot', lot ) as (AttributeID, Value1)\").where(\"EntityID is not null and TimePeriod is not null\")\r\n",
        "        final_df.withColumn(\"Value\",f.concat(f.col(\"AttributeID\"),f.lit(':'), f.col('Value1'))).select('TimePeriod','EntityID','AttributeID','Value')\r\n",
        "        final_df.write.mode(\"overwrite\").parquet('abfss://'+'staging'+'@'+ storage_account + '.dfs.core.windows.net/'+ 'BeneficialOwnership/OpenData/Contracting/ActivityDF_Processed/CustomerData')\r\n",
        "    \r\n",
        "    elif sinkdbTable == 'OpenContractingContact':\r\n",
        "        final_df = newDataframe.selectExpr(\"EntityID\", \"stack(5, 'email', email, 'name', name, 'website', website, 'phone', phone, 'address', address ) as (AttributeID, Value)\").where(\"EntityID is not null \")\r\n",
        "        final_df.write.mode(\"overwrite\").parquet('abfss://'+'staging'+'@'+ storage_account + '.dfs.core.windows.net/'+ 'BeneficialOwnership/OpenData/Contracting/ContactDF_Processed/CustomerData')\r\n",
        "\r\n",
        "    elif sinkdbTable == 'OpenOwnershipPerson':\r\n",
        "        final_df = newDataframe.withColumn(\"AttributeID\", f.lit('individual partner')).select('EntityID','AttributeID','Value')\r\n",
        "        final_df.write.mode(\"overwrite\").parquet('abfss://'+'staging'+'@'+ storage_account + '.dfs.core.windows.net/'+ 'BeneficialOwnership/OpenData/Ownership/Person/OwnershipDF_Processed/CustomerData')\r\n",
        "\r\n",
        "    elif sinkdbTable == 'OpenSanctions':\r\n",
        "        final_df = newDataframe.select('EntityID','Category','Description','Evidence')\r\n",
        "        final_df.write.mode(\"overwrite\").parquet('abfss://'+'staging'+'@'+ storage_account + '.dfs.core.windows.net/'+ 'BeneficialOwnership/OpenData/Sanctions/SanctionsDF_Processed/CustomerData')\r\n",
        ""
      ]
    },
    {
      "cell_type": "code",
      "execution_count": null,
      "outputs": [
        {
          "output_type": "display_data",
          "data": {
            "application/vnd.livy.statement-meta+json": {
              "spark_pool": null,
              "session_id": null,
              "statement_id": null,
              "state": "cancelled",
              "livy_statement_state": null,
              "queued_time": "2023-03-30T18:15:56.48502Z",
              "session_start_time": null,
              "execution_start_time": null,
              "execution_finish_time": "2023-03-30T18:16:07.9509619Z",
              "spark_jobs": null,
              "parent_msg_id": "114db764-e3db-4f4a-bea9-69f8a08e1a51"
            },
            "text/plain": "StatementMeta(, , , Cancelled, )"
          },
          "metadata": {}
        }
      ],
      "metadata": {
        "jupyter": {
          "source_hidden": false,
          "outputs_hidden": false
        },
        "nteract": {
          "transient": {
            "deleting": false
          }
        }
      },
      "source": [
        "ProcessCustomerData(mapping, container, storage_account, folderpath, filename, sinkdbTable)"
      ]
    }
  ]
}